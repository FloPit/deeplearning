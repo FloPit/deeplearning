{
 "cells": [
  {
   "cell_type": "markdown",
   "metadata": {},
   "source": [
    "# \"Remaining Useful Life Estimation in Prognostics Using Deep Convolution Neural Networks\" by Xiang Li et al.\n",
    "\n",
    "This document reproduces the implementation of a Deep Convolutional Network  by Xiang Li et al. applied to the NASA \"CMAPSS\" dataset. This implementation has been done in Keras.\n",
    "\n",
    "Copyright (c) by Manuel Arias, Christian Schneebeli and Lukas R. Peter 2017-12-01."
   ]
  },
  {
   "cell_type": "markdown",
   "metadata": {},
   "source": [
    "Before jumping into the problem, let's run the cell below to load the required packages."
   ]
  },
  {
   "cell_type": "code",
   "execution_count": 1,
   "metadata": {},
   "outputs": [
    {
     "name": "stderr",
     "output_type": "stream",
     "text": [
      "Using TensorFlow backend.\n"
     ]
    }
   ],
   "source": [
    "import os\n",
    "import numpy as np\n",
    "from keras import layers\n",
    "from keras.layers import Input, Dense, Activation, ZeroPadding2D, BatchNormalization, Flatten, Conv2D\n",
    "from keras.layers import Dropout\n",
    "from keras.models import Model\n",
    "from keras.utils import layer_utils\n",
    "from keras.utils.data_utils import get_file\n",
    "from keras.initializers import glorot_uniform\n",
    "from keras import optimizers\n",
    "from IPython.display import SVG, clear_output\n",
    "from keras.utils import plot_model\n",
    "from os import path\n",
    "\n",
    "import keras.callbacks\n",
    "import keras.backend as K\n",
    "K.set_image_data_format('channels_last')\n",
    "import matplotlib.pyplot as plt\n",
    "\n",
    "%matplotlib inline"
   ]
  },
  {
   "cell_type": "code",
   "execution_count": 2,
   "metadata": {},
   "outputs": [],
   "source": [
    "os.environ['CUDA_VISIBLE_DEVICES'] = '1'"
   ]
  },
  {
   "cell_type": "markdown",
   "metadata": {},
   "source": [
    "# 1  \"CMAPSS\" Dataset\n",
    "\n",
    "The proposed method is evaluated on a prognostic benchmarking problem, i.e. NASA’s turbofan engine degradation problem [30, 41]. This popular dataset contains simulated data produced by a model-based simulation program, i.e. Commercial Modular\n",
    "Aero-Propulsion System Simulation (C-MAPSS), which was developed by NASA. The CMAPSS dataset includes 4 sub-datasets that are composed of multi-variate temporal data obtained from 21 sensors. Each sub-dataset contains one training set and one test set. The training datasets include run-to-failure sensor records of multiple aero-engines collected under different operational conditions and fault modes. Each engine unit starts with different degrees of initial wear and manufacturing variation that is unknown and considered to be healthy. As time progresses, the engine units begin to degrade until they reach the system failures, i.e. the last data entry corresponds to the time cycle that the engine unit is declared\n",
    "unhealthy. On the other hand, the sensor records in the testing datasets terminate at some time before system failure, and the goal of this task is to estimate the remaining useful life of each engine in the test dataset. For verification, the actual RUL value for the testing engine units are also provided. In this study, a comprehensive evaluation of the proposed method is carried out on all the four sub-datasets.\n"
   ]
  },
  {
   "cell_type": "markdown",
   "metadata": {},
   "source": [
    "**Details of the \"CMAPSS\" dataset**\n",
    "- Training: 17731 inputs from 100 engine trajectories. It uses a sliding time window of 30 time stamps. \n",
    "- Test: 100 points from 100 engine trajectories. It takes the last available 30 time stamps."
   ]
  },
  {
   "cell_type": "markdown",
   "metadata": {},
   "source": [
    "# 1.1  Data Pre-processing\n",
    "\n",
    "In the training process, all the available engine measurement data points are used as the training samples, and each data point is associated with its RUL label as the target. A piecewise linear degradation model [5] is used to obtain the RUL label with respect to each training sample. During testing, the one data point corresponding with the last recorded\n",
    "cycle for each engine unit is generally used as the testing sample. The actual RUL of the testing samples are provided in the dataset.\n",
    "\n",
    "The multi-variate temporal data in the C-MAPSS dataset contains engine unit measurements from 21 sensors [30]. However, some sensor readings have constant outputs in the engine’s lifetime and they do not provide valuable information for RUL estimation. Therefore, 14 sensor measurements out of the total 21 sensors are used as the raw input features as did in\n",
    "the literature [5, 29], whose indices are 2, 3, 4, 7, 8, 9, 11, 12, 13, 14, 15, 17, 20 and 21.\n",
    "\n",
    "For each of the 4 sub-datasets in C-MAPSS, the collected measurement data from each sensor are normalized to be within the range of [−1, 1] using the min-max normalization method."
   ]
  },
  {
   "cell_type": "markdown",
   "metadata": {},
   "source": [
    "## 1.1.1  Time window processing\n",
    "In the multi-variate time series-based problems such as $RUL$ estimation, more information can be generally obtained from the temporal sequence data compared with the multi-variate data point sampled at a single time step. In this paper, a time window is adopted for the data preparation to use the multi-variate temporal information. Let $N_{tw}$ denote the size of the time window. At each time step, all the past sensor data within the time window for each  engine unit are collected to form a high-dimensional feature vector, and used as the inputs for the network."
   ]
  },
  {
   "cell_type": "markdown",
   "metadata": {},
   "source": [
    "**Time window details**\n",
    "- $N_{tw} = 30$ \n",
    "- Stride = 1"
   ]
  },
  {
   "cell_type": "markdown",
   "metadata": {},
   "source": [
    "## 1.1.2  R early\n",
    "In general, the engine unit works normally in the early age and degrades afterwards. It is assumed to have a constant RUL label in the initial period. Following the recent researches in the literature [2,5,42] , $R_{early}$ which is a constant RUL value, is used as the target labels for the data points in the early period. It should be noted that $R_{early}$ has noticeable effect on the prognostic performance on the dataset."
   ]
  },
  {
   "cell_type": "code",
   "execution_count": 3,
   "metadata": {},
   "outputs": [],
   "source": [
    "def sliding_window(data, N_tw = 30, stride = 1):\n",
    "    N_en = np.unique(data[:,0]).shape[0]                            # Number of engines (N_en)\n",
    "    m = 0\n",
    "    for i in range(N_en):\n",
    "        n_H   = data[data[:,0] == i+1,0].shape[0]\n",
    "        N_sw  = int((n_H- N_tw) / stride + 1)                       # Number of sliding windows for engine 'i' \n",
    "        for h in range(N_sw):\n",
    "            m = m + 1    \n",
    "    return m, N_en        "
   ]
  },
  {
   "cell_type": "code",
   "execution_count": 4,
   "metadata": {},
   "outputs": [],
   "source": [
    "def load_dataset(N_tw, stride, sel, R_early):\n",
    "    # Load training data\n",
    "    basepath        = path.dirname(os.getcwd()) \n",
    "    train_set       = np.loadtxt(path.abspath(path.join(basepath, \"data\", \"train_FD001.txt\")))  # Training set\n",
    "    train_set_x_org = train_set[:,sel]                              # Training set input space (x)    \n",
    "    train_set_c     = train_set[:,np.array([1])]                    # Training set cycles (c)\n",
    "    \n",
    "    # Normalize the data\n",
    "    ub = train_set_x_org.max(0)\n",
    "    lb = train_set_x_org.min(0)    \n",
    "    train_set_x = 2 * (train_set_x_org - lb) / (ub - lb) - 1   \n",
    "   \n",
    "    N_ft    = sel.shape[0]                                           # Nunber of features (N_ft)\n",
    "    m, N_en = sliding_window(train_set, N_tw, stride)                # Number of training data & engines\n",
    "    \n",
    "    train_x = np.empty((m, N_tw, N_ft, 1), float)\n",
    "    train_y = np.empty((m, 1), float)\n",
    "    \n",
    "    k = 0\n",
    "    for i in range(N_en):\n",
    "        idx       = train_set[:,0] == i+1                            # Index for engine number 'i'\n",
    "        train_i_x = train_set_x[idx,:]                               # Engine 'i' training  data\n",
    "        train_i_c = train_set_c[idx]                                 # Engine 'i' cycles (c)\n",
    "        train_i_y = train_i_c[-1] - train_i_c                        # RUL: Remaining Useful Lifetime for engine 'i'\n",
    "        train_i_y[train_i_y > R_early] = R_early                     # R_early = 125\n",
    "        N_sw      = int((train_i_x.shape[0] - N_tw) / stride + 1)    # Number of sliding windows for engine 'i' \n",
    "        for h in range(N_sw):\n",
    "            k = k + 1\n",
    "            vert_start = h * stride\n",
    "            vert_end   = h * stride + N_tw\n",
    "            train_i_x_slice = train_i_x[vert_start:vert_end,:]       # Training input data for engine 'i' on time window 'h'\n",
    "            train_i_y_slice = train_i_y[vert_end-1,:]                # Training output data for engine 'i' on time window 'h'\n",
    "            train_i_x_slice.shape = (N_tw, N_ft, 1)                  # Reshape training set input (N_tw, N_ft, 1)\n",
    "            train_i_y_slice.shape = (1, 1)                           # Reshape training set output (1, 1)\n",
    "            train_x[k-1,:,:] = train_i_x_slice\n",
    "            train_y[k-1,:] = train_i_y_slice\n",
    "     \n",
    "    # Load test data\n",
    "    test_set       = np.loadtxt(path.abspath(path.join(basepath, \"data\", \"test_FD001.txt\")))\n",
    "    test_set_x_org = test_set[:,sel]                                 # Test set input space (x)\n",
    "    test_set_c     = test_set[:,np.array([1])]                       # Test set cycles (c)\n",
    "    test_y         = np.loadtxt(path.abspath(path.join(basepath, \"data\", \"RUL_FD001.txt\")))    # Test set RUL (c)\n",
    "    test_y.shape   = (test_y.shape[0], 1)\n",
    "    \n",
    "    # Normalize the data\n",
    "    test_set_x = 2 * (test_set_x_org - lb) / (ub - lb) - 1   \n",
    "    \n",
    "    m_ts, N_en_ts = sliding_window(test_set, N_tw, stride)           # Number of training data & engines\n",
    "    \n",
    "    test_x = np.empty((N_en_ts, N_tw, N_ft, 1), float)\n",
    "    \n",
    "    k = 0\n",
    "    for ii in range(N_en_ts):\n",
    "        engine         = test_set[:,0] == ii+1                       # Index for engine number 'i'\n",
    "        test_i_x       = test_set_x[engine,:]                        # Engine 'i' test  data\n",
    "        test_i_x_slice = test_i_x[-N_tw:,:]                          # Training input data for engine 'i' on time window 'h'\n",
    "        test_i_x_slice.shape = (N_tw, N_ft, 1)                       # Reshape training set input (N_tw, N_ft, 1)\n",
    "        test_x[ii,:,:] = test_i_x_slice\n",
    "    \n",
    "    return train_x, train_y, test_x, test_y"
   ]
  },
  {
   "cell_type": "code",
   "execution_count": 5,
   "metadata": {},
   "outputs": [],
   "source": [
    "N_tw     = 30                                                               # Time Window (N_tw)\n",
    "R_early  = 125                                                              # Max RUL in training set\n",
    "stride   = 1\n",
    "sel      = np.array([6, 7, 8, 11, 12, 13, 15, 16, 17, 18, 19, 21, 24, 25])  # Index of input features"
   ]
  },
  {
   "cell_type": "code",
   "execution_count": 6,
   "metadata": {},
   "outputs": [
    {
     "name": "stdout",
     "output_type": "stream",
     "text": [
      "number of training examples = 17731\n",
      "number of test examples = 100\n",
      "X_train shape: (17731, 30, 14, 1)\n",
      "Y_train shape: (17731, 1)\n",
      "X_test shape: (100, 30, 14, 1)\n",
      "Y_test shape: (100, 1)\n"
     ]
    }
   ],
   "source": [
    "X_train, Y_train, X_test, Y_test = load_dataset(N_tw, stride, sel, R_early)\n",
    "print (\"number of training examples = \" + str(X_train.shape[0]))\n",
    "print (\"number of test examples = \" + str(X_test.shape[0]))\n",
    "print (\"X_train shape: \" + str(X_train.shape))\n",
    "print (\"Y_train shape: \" + str(Y_train.shape))\n",
    "print (\"X_test shape: \" + str(X_test.shape))\n",
    "print (\"Y_test shape: \" + str(Y_test.shape))"
   ]
  },
  {
   "cell_type": "markdown",
   "metadata": {},
   "source": [
    "# 2  Network Structure\n",
    "\n",
    "In general, the proposed deep learning method consists of two sub-structures, i.e. multiple convolution neural networks and fully-connected layer for regression.\n",
    "\n",
    "First, the input data sample is prepared in 2-dimensional (2D) format. The dimension of the input is $N_{tw} × N_{ft}$, where $N_{tw}$ denotes the time sequence dimension and $N_{ft}$ is the number of selected features (i.e. number of sensor measurements).\n",
    "\n",
    "Next, 4 identical convolution layers are stacked in the network for feature extraction. The convolutions considers $F_N$ filters with kernel size $F_L × 1$. Zerospadding operation is implemented to keep the feature map dimension unchanged. Therefore, the obtained output feature maps dimension is $N_{tw} × N_{ft} × F_N$. We use another convolution layer with 1 filter to combine the previous feature maps to be a unique one. The filter size is $3 × 1$.\n",
    "\n",
    "Afterwards, the 2-dimensional feature map is flattened and connected with a fully-connected layer. Note that dropout technique is used on the last feature map, i.e. the flattened layer, to relieve overfitting. Finally, one neuron is attached at the end of the proposed network for $RUL$ estimation.\n",
    "\n",
    "**Model Hyperparameters:**\n"
   ]
  },
  {
   "cell_type": "code",
   "execution_count": 7,
   "metadata": {},
   "outputs": [],
   "source": [
    "# Kernel size\n",
    "kernels = [10, 10, 10, 10, 3]\n",
    "\n",
    "# Number of filters (channels)\n",
    "filters = [10, 10, 10, 10, 1]\n",
    "\n",
    "# Activation\n",
    "activ = 'tanh'"
   ]
  },
  {
   "cell_type": "markdown",
   "metadata": {},
   "source": [
    "# 3  Model in Keras\n",
    "Keras uses a different convention with variable names than TensorFlow. In particular, rather than creating and assigning a new variable on each step of forward propagation such as X, Z1, A1, Z2, A2, etc. for the computations for the different layers, in Keras code each line above just reassigns X to a new value using X = .... In other words, during each step of forward propagation, we are just writing the latest value in the commputation into the same variable X. The only exception was X_input, which we kept separate and did not overwrite, since we needed it at the end to create the Keras model instance (model = Model(inputs = X_input, ...) above)."
   ]
  },
  {
   "cell_type": "code",
   "execution_count": 8,
   "metadata": {},
   "outputs": [],
   "source": [
    "def CNN_2d(input_shape, filters, kernels, activ):\n",
    "    \"\"\"\n",
    "    Implementation of the 1D_CNN model.\n",
    "    \n",
    "    Arguments:\n",
    "    input_shape -- shape of the images of the dataset\n",
    "\n",
    "    Returns:\n",
    "    model -- a Model() instance in Keras\n",
    "    \"\"\"\n",
    "    \n",
    "    # Retrieve Filters & kernels\n",
    "    F0, F1, F2, F3, F4 = filters                 \n",
    "    K0, K1, K2, K3, K4 = kernels    \n",
    "      \n",
    "    # Define the input placeholder as a tensor with shape input_shape    \n",
    "    X_input = Input(input_shape)\n",
    "   \n",
    "    # CONV -> RELU Block applied to X_input\n",
    "    X = Conv2D(F0, (K0, 1), strides = (1, 1), padding = 'same', activation = activ, kernel_initializer = glorot_uniform(seed=0), name = 'conv0')(X_input)\n",
    "    \n",
    "    # CONV -> RELU Block applied to X\n",
    "    X = Conv2D(F1, (K1, 1), strides = (1, 1), padding = 'same', activation = activ, kernel_initializer = glorot_uniform(seed=0), name = 'conv1')(X)\n",
    "      \n",
    "    # CONV -> RELU Block applied to X\n",
    "    X = Conv2D(F2, (K2, 1), strides = (1, 1), padding = 'same', activation = activ, kernel_initializer = glorot_uniform(seed=0), name = 'conv2')(X)\n",
    "        \n",
    "    # CONV -> RELU Block applied to X\n",
    "    X = Conv2D(F3, (K3, 1), strides = (1, 1), padding = 'same', activation = activ, kernel_initializer = glorot_uniform(seed=0), name = 'conv3')(X)\n",
    "      \n",
    "    # CONV -> BN -> RELU Block applied to X\n",
    "    X = Conv2D(F4, (K4, 1), strides = (1, 1), padding = 'same', activation = activ, kernel_initializer = glorot_uniform(seed=0), name = 'conv4')(X)\n",
    "    \n",
    "    # FLATTEN X (means convert it to a vector) + FULLYCONNECTED\n",
    "    X = Flatten()(X)\n",
    "    X = Dropout(0.5)(X)\n",
    "    X = Dense(100, activation = activ, name='fc')(X)\n",
    "    X = Dense(1, name='RUL')(X)\n",
    "\n",
    "    # Create model. This creates your Keras model instance, you'll use this instance to train/test the model.\n",
    "    model = Model(inputs = X_input, outputs = X, name='CNN_2d')    \n",
    "   \n",
    "    return model"
   ]
  },
  {
   "cell_type": "markdown",
   "metadata": {},
   "source": [
    "Now, we feed the model hyperparameters to the CNN model"
   ]
  },
  {
   "cell_type": "code",
   "execution_count": 9,
   "metadata": {},
   "outputs": [],
   "source": [
    "# Call the model\n",
    "CNN_2d = CNN_2d(X_train.shape[1:],filters, kernels, activ)"
   ]
  },
  {
   "cell_type": "markdown",
   "metadata": {},
   "source": [
    "## 3.1 Model Summary"
   ]
  },
  {
   "cell_type": "code",
   "execution_count": 10,
   "metadata": {},
   "outputs": [
    {
     "name": "stdout",
     "output_type": "stream",
     "text": [
      "_________________________________________________________________\n",
      "Layer (type)                 Output Shape              Param #   \n",
      "=================================================================\n",
      "input_1 (InputLayer)         (None, 30, 14, 1)         0         \n",
      "_________________________________________________________________\n",
      "conv0 (Conv2D)               (None, 30, 14, 10)        110       \n",
      "_________________________________________________________________\n",
      "conv1 (Conv2D)               (None, 30, 14, 10)        1010      \n",
      "_________________________________________________________________\n",
      "conv2 (Conv2D)               (None, 30, 14, 10)        1010      \n",
      "_________________________________________________________________\n",
      "conv3 (Conv2D)               (None, 30, 14, 10)        1010      \n",
      "_________________________________________________________________\n",
      "conv4 (Conv2D)               (None, 30, 14, 1)         31        \n",
      "_________________________________________________________________\n",
      "flatten_1 (Flatten)          (None, 420)               0         \n",
      "_________________________________________________________________\n",
      "dropout_1 (Dropout)          (None, 420)               0         \n",
      "_________________________________________________________________\n",
      "fc (Dense)                   (None, 100)               42100     \n",
      "_________________________________________________________________\n",
      "RUL (Dense)                  (None, 1)                 101       \n",
      "=================================================================\n",
      "Total params: 45,372\n",
      "Trainable params: 45,372\n",
      "Non-trainable params: 0\n",
      "_________________________________________________________________\n"
     ]
    }
   ],
   "source": [
    "CNN_2d.summary()"
   ]
  },
  {
   "cell_type": "markdown",
   "metadata": {},
   "source": [
    "## 3.2 Model Training\n",
    "\n",
    "Its configuration is determined including the number of hidden layers, convolution filter number and length etc. The DCNN takes as the inputs the normalized training data, and the labeled RUL values for the training samples are used as the target outputs of the network\n",
    "\n",
    "All the layers use tanh as the activation functions, and Xavier normal initializer is employed for the weight initializations [38]. Back-propagation learning is used for the updates of the weights in the network. The Adam optimization algorithm [40] is used with mini-batches for the updates. For each training epoch, the samples are randomly divided into multiple mini-batches with each batch containing 512 samples, and put into the training system. Next, the network information, i.e. the weights in each layer, are optimized based on the mean loss function of each mini-batch. It should be noted that the selection of batch size affects the network training performance [45]. The batch size of 512 samples is found appropriate based on the experiments and it is used in all the case studies in this paper. In addition, varying learning rate is adopted. For the first 200 epochs from the beginning, the learning rate is 0.001 for fast optimization. The learning rate of 0.0001 is used afterwards for stable convergence. The maximum number of the training epochs is 250."
   ]
  },
  {
   "cell_type": "markdown",
   "metadata": {},
   "source": [
    "To train and test this model, there are four steps in Keras:\n",
    "1. Create the model by calling the function above\n",
    "2. Compile the model by calling `model.compile(optimizer = \"...\", loss = \"...\")`\n",
    "3. Train the model on train data by calling `model.fit(x = ..., y = ..., epochs = ..., batch_size = ...)`\n",
    "4. Test the model on test data by calling `model.evaluate(x = ..., y = ...)`\n",
    "\n",
    "If you want to know more about `model.compile()`, `model.fit()`, `model.evaluate()` and their arguments, refer to the official [Keras documentation](https://keras.io/models/model/).\n"
   ]
  },
  {
   "cell_type": "code",
   "execution_count": 11,
   "metadata": {},
   "outputs": [],
   "source": [
    "CNN_2d.compile(optimizer = \"Adam\", loss = \"mean_squared_error\")"
   ]
  },
  {
   "cell_type": "markdown",
   "metadata": {},
   "source": [
    "** Learning rate:**"
   ]
  },
  {
   "cell_type": "code",
   "execution_count": 12,
   "metadata": {},
   "outputs": [
    {
     "name": "stdout",
     "output_type": "stream",
     "text": [
      "Learning Rate: 0.001\n"
     ]
    }
   ],
   "source": [
    "print('Learning Rate: ' + str(K.get_value(CNN_2d.optimizer.lr)))"
   ]
  },
  {
   "cell_type": "markdown",
   "metadata": {},
   "source": [
    "We define an updatable plot to track training evolution"
   ]
  },
  {
   "cell_type": "code",
   "execution_count": 13,
   "metadata": {},
   "outputs": [],
   "source": [
    "# updatable plot\n",
    "class PlotLosses(keras.callbacks.Callback):\n",
    "    def on_train_begin(self, logs={}):\n",
    "        self.i = 0\n",
    "        self.x = []\n",
    "        self.losses = []\n",
    "        self.val_losses = []        \n",
    "        self.fig = plt.figure()        \n",
    "        self.logs = []\n",
    "\n",
    "    def on_epoch_end(self, epoch, logs={}):        \n",
    "        self.logs.append(logs)\n",
    "        self.x.append(self.i)\n",
    "        self.losses.append(logs.get('loss'))\n",
    "        self.val_losses.append(logs.get('val_loss'))\n",
    "        self.i += 1\n",
    "        \n",
    "        clear_output(wait=True)\n",
    "        #fig, ax1 = plt.subplots()\n",
    "        #ax1.plot(self.x, self.losses, label=\"loss\", color='tab:blue')\n",
    "        #ax1.set_xlabel('epoch')\n",
    "        #ax1.set_ylabel('loss', color='tab:blue')\n",
    "        #ax1.tick_params('y', colors='tab:blue')\n",
    "        #ax2 = ax1.twinx()\n",
    "        #ax2.plot(self.x, self.val_losses, label=\"val_loss\", color='tab:orange')\n",
    "        #ax2.set_ylabel('val_loss', color='tab:orange')\n",
    "        #ax2.tick_params('y', colors='tab:orange')\n",
    "        plt.plot(self.x, np.sqrt(self.losses), label=\"loss\")\n",
    "        plt.plot(self.x, np.sqrt(self.val_losses), label=\"val_loss\")\n",
    "        plt.ylabel('loss - RMSE')\n",
    "        plt.xlabel('epoch')\n",
    "        plt.legend(['train','test'], loc='upper left')\n",
    "        plt.title('model loss')\n",
    "        #fig.tight_layout()\n",
    "        plt.show();\n",
    "        \n",
    "plot_losses = PlotLosses()"
   ]
  },
  {
   "cell_type": "code",
   "execution_count": 14,
   "metadata": {},
   "outputs": [
    {
     "data": {
      "image/png": "[encoded data removed]",
      "text/plain": [
       "<matplotlib.figure.Figure at 0x11b537390>"
      ]
     },
     "metadata": {},
     "output_type": "display_data"
    },
    {
     "name": "stdout",
     "output_type": "stream",
     "text": [
      "17731/17731 [==============================] - 17s 975us/step - loss: 3733.2919 - val_loss: 3147.3113\n",
      "Epoch 8/200\n",
      " 4096/17731 [=====>........................] - ETA: 14s - loss: 3508.2011"
     ]
    },
    {
     "ename": "KeyboardInterrupt",
     "evalue": "",
     "output_type": "error",
     "traceback": [
      "\u001b[0;31m---------------------------------------------------------------------------\u001b[0m",
      "\u001b[0;31mKeyboardInterrupt\u001b[0m                         Traceback (most recent call last)",
      "\u001b[0;32m<ipython-input-14-de2443957264>\u001b[0m in \u001b[0;36m<module>\u001b[0;34m()\u001b[0m\n\u001b[0;32m----> 1\u001b[0;31m \u001b[0mCNN_2d\u001b[0m\u001b[0;34m.\u001b[0m\u001b[0mfit\u001b[0m\u001b[0;34m(\u001b[0m\u001b[0mX_train\u001b[0m\u001b[0;34m,\u001b[0m \u001b[0mY_train\u001b[0m\u001b[0;34m,\u001b[0m \u001b[0mepochs\u001b[0m \u001b[0;34m=\u001b[0m \u001b[0;36m200\u001b[0m\u001b[0;34m,\u001b[0m \u001b[0mbatch_size\u001b[0m \u001b[0;34m=\u001b[0m \u001b[0;36m512\u001b[0m\u001b[0;34m,\u001b[0m \u001b[0mvalidation_data\u001b[0m \u001b[0;34m=\u001b[0m \u001b[0;34m(\u001b[0m\u001b[0mX_test\u001b[0m\u001b[0;34m,\u001b[0m \u001b[0mY_test\u001b[0m\u001b[0;34m)\u001b[0m\u001b[0;34m,\u001b[0m \u001b[0mcallbacks\u001b[0m\u001b[0;34m=\u001b[0m\u001b[0;34m[\u001b[0m\u001b[0mplot_losses\u001b[0m\u001b[0;34m]\u001b[0m\u001b[0;34m)\u001b[0m\u001b[0;34m\u001b[0m\u001b[0m\n\u001b[0m",
      "\u001b[0;32m/Users/snn/anaconda/envs/tensorflow/lib/python2.7/site-packages/keras/engine/training.pyc\u001b[0m in \u001b[0;36mfit\u001b[0;34m(self, x, y, batch_size, epochs, verbose, callbacks, validation_split, validation_data, shuffle, class_weight, sample_weight, initial_epoch, steps_per_epoch, validation_steps, **kwargs)\u001b[0m\n\u001b[1;32m   1629\u001b[0m                               \u001b[0minitial_epoch\u001b[0m\u001b[0;34m=\u001b[0m\u001b[0minitial_epoch\u001b[0m\u001b[0;34m,\u001b[0m\u001b[0;34m\u001b[0m\u001b[0m\n\u001b[1;32m   1630\u001b[0m                               \u001b[0msteps_per_epoch\u001b[0m\u001b[0;34m=\u001b[0m\u001b[0msteps_per_epoch\u001b[0m\u001b[0;34m,\u001b[0m\u001b[0;34m\u001b[0m\u001b[0m\n\u001b[0;32m-> 1631\u001b[0;31m                               validation_steps=validation_steps)\n\u001b[0m\u001b[1;32m   1632\u001b[0m \u001b[0;34m\u001b[0m\u001b[0m\n\u001b[1;32m   1633\u001b[0m     def evaluate(self, x=None, y=None,\n",
      "\u001b[0;32m/Users/snn/anaconda/envs/tensorflow/lib/python2.7/site-packages/keras/engine/training.pyc\u001b[0m in \u001b[0;36m_fit_loop\u001b[0;34m(self, f, ins, out_labels, batch_size, epochs, verbose, callbacks, val_f, val_ins, shuffle, callback_metrics, initial_epoch, steps_per_epoch, validation_steps)\u001b[0m\n\u001b[1;32m   1211\u001b[0m                     \u001b[0mbatch_logs\u001b[0m\u001b[0;34m[\u001b[0m\u001b[0;34m'size'\u001b[0m\u001b[0;34m]\u001b[0m \u001b[0;34m=\u001b[0m \u001b[0mlen\u001b[0m\u001b[0;34m(\u001b[0m\u001b[0mbatch_ids\u001b[0m\u001b[0;34m)\u001b[0m\u001b[0;34m\u001b[0m\u001b[0m\n\u001b[1;32m   1212\u001b[0m                     \u001b[0mcallbacks\u001b[0m\u001b[0;34m.\u001b[0m\u001b[0mon_batch_begin\u001b[0m\u001b[0;34m(\u001b[0m\u001b[0mbatch_index\u001b[0m\u001b[0;34m,\u001b[0m \u001b[0mbatch_logs\u001b[0m\u001b[0;34m)\u001b[0m\u001b[0;34m\u001b[0m\u001b[0m\n\u001b[0;32m-> 1213\u001b[0;31m                     \u001b[0mouts\u001b[0m \u001b[0;34m=\u001b[0m \u001b[0mf\u001b[0m\u001b[0;34m(\u001b[0m\u001b[0mins_batch\u001b[0m\u001b[0;34m)\u001b[0m\u001b[0;34m\u001b[0m\u001b[0m\n\u001b[0m\u001b[1;32m   1214\u001b[0m                     \u001b[0;32mif\u001b[0m \u001b[0;32mnot\u001b[0m \u001b[0misinstance\u001b[0m\u001b[0;34m(\u001b[0m\u001b[0mouts\u001b[0m\u001b[0;34m,\u001b[0m \u001b[0mlist\u001b[0m\u001b[0;34m)\u001b[0m\u001b[0;34m:\u001b[0m\u001b[0;34m\u001b[0m\u001b[0m\n\u001b[1;32m   1215\u001b[0m                         \u001b[0mouts\u001b[0m \u001b[0;34m=\u001b[0m \u001b[0;34m[\u001b[0m\u001b[0mouts\u001b[0m\u001b[0;34m]\u001b[0m\u001b[0;34m\u001b[0m\u001b[0m\n",
      "\u001b[0;32m/Users/snn/anaconda/envs/tensorflow/lib/python2.7/site-packages/keras/backend/tensorflow_backend.pyc\u001b[0m in \u001b[0;36m__call__\u001b[0;34m(self, inputs)\u001b[0m\n\u001b[1;32m   2330\u001b[0m         updated = session.run(self.outputs + [self.updates_op],\n\u001b[1;32m   2331\u001b[0m                               \u001b[0mfeed_dict\u001b[0m\u001b[0;34m=\u001b[0m\u001b[0mfeed_dict\u001b[0m\u001b[0;34m,\u001b[0m\u001b[0;34m\u001b[0m\u001b[0m\n\u001b[0;32m-> 2332\u001b[0;31m                               **self.session_kwargs)\n\u001b[0m\u001b[1;32m   2333\u001b[0m         \u001b[0;32mreturn\u001b[0m \u001b[0mupdated\u001b[0m\u001b[0;34m[\u001b[0m\u001b[0;34m:\u001b[0m\u001b[0mlen\u001b[0m\u001b[0;34m(\u001b[0m\u001b[0mself\u001b[0m\u001b[0;34m.\u001b[0m\u001b[0moutputs\u001b[0m\u001b[0;34m)\u001b[0m\u001b[0;34m]\u001b[0m\u001b[0;34m\u001b[0m\u001b[0m\n\u001b[1;32m   2334\u001b[0m \u001b[0;34m\u001b[0m\u001b[0m\n",
      "\u001b[0;32m/Users/snn/anaconda/envs/tensorflow/lib/python2.7/site-packages/tensorflow/python/client/session.pyc\u001b[0m in \u001b[0;36mrun\u001b[0;34m(self, fetches, feed_dict, options, run_metadata)\u001b[0m\n\u001b[1;32m    765\u001b[0m     \u001b[0;32mtry\u001b[0m\u001b[0;34m:\u001b[0m\u001b[0;34m\u001b[0m\u001b[0m\n\u001b[1;32m    766\u001b[0m       result = self._run(None, fetches, feed_dict, options_ptr,\n\u001b[0;32m--> 767\u001b[0;31m                          run_metadata_ptr)\n\u001b[0m\u001b[1;32m    768\u001b[0m       \u001b[0;32mif\u001b[0m \u001b[0mrun_metadata\u001b[0m\u001b[0;34m:\u001b[0m\u001b[0;34m\u001b[0m\u001b[0m\n\u001b[1;32m    769\u001b[0m         \u001b[0mproto_data\u001b[0m \u001b[0;34m=\u001b[0m \u001b[0mtf_session\u001b[0m\u001b[0;34m.\u001b[0m\u001b[0mTF_GetBuffer\u001b[0m\u001b[0;34m(\u001b[0m\u001b[0mrun_metadata_ptr\u001b[0m\u001b[0;34m)\u001b[0m\u001b[0;34m\u001b[0m\u001b[0m\n",
      "\u001b[0;32m/Users/snn/anaconda/envs/tensorflow/lib/python2.7/site-packages/tensorflow/python/client/session.pyc\u001b[0m in \u001b[0;36m_run\u001b[0;34m(self, handle, fetches, feed_dict, options, run_metadata)\u001b[0m\n\u001b[1;32m    963\u001b[0m     \u001b[0;32mif\u001b[0m \u001b[0mfinal_fetches\u001b[0m \u001b[0;32mor\u001b[0m \u001b[0mfinal_targets\u001b[0m\u001b[0;34m:\u001b[0m\u001b[0;34m\u001b[0m\u001b[0m\n\u001b[1;32m    964\u001b[0m       results = self._do_run(handle, final_targets, final_fetches,\n\u001b[0;32m--> 965\u001b[0;31m                              feed_dict_string, options, run_metadata)\n\u001b[0m\u001b[1;32m    966\u001b[0m     \u001b[0;32melse\u001b[0m\u001b[0;34m:\u001b[0m\u001b[0;34m\u001b[0m\u001b[0m\n\u001b[1;32m    967\u001b[0m       \u001b[0mresults\u001b[0m \u001b[0;34m=\u001b[0m \u001b[0;34m[\u001b[0m\u001b[0;34m]\u001b[0m\u001b[0;34m\u001b[0m\u001b[0m\n",
      "\u001b[0;32m/Users/snn/anaconda/envs/tensorflow/lib/python2.7/site-packages/tensorflow/python/client/session.pyc\u001b[0m in \u001b[0;36m_do_run\u001b[0;34m(self, handle, target_list, fetch_list, feed_dict, options, run_metadata)\u001b[0m\n\u001b[1;32m   1013\u001b[0m     \u001b[0;32mif\u001b[0m \u001b[0mhandle\u001b[0m \u001b[0;32mis\u001b[0m \u001b[0mNone\u001b[0m\u001b[0;34m:\u001b[0m\u001b[0;34m\u001b[0m\u001b[0m\n\u001b[1;32m   1014\u001b[0m       return self._do_call(_run_fn, self._session, feed_dict, fetch_list,\n\u001b[0;32m-> 1015\u001b[0;31m                            target_list, options, run_metadata)\n\u001b[0m\u001b[1;32m   1016\u001b[0m     \u001b[0;32melse\u001b[0m\u001b[0;34m:\u001b[0m\u001b[0;34m\u001b[0m\u001b[0m\n\u001b[1;32m   1017\u001b[0m       return self._do_call(_prun_fn, self._session, handle, feed_dict,\n",
      "\u001b[0;32m/Users/snn/anaconda/envs/tensorflow/lib/python2.7/site-packages/tensorflow/python/client/session.pyc\u001b[0m in \u001b[0;36m_do_call\u001b[0;34m(self, fn, *args)\u001b[0m\n\u001b[1;32m   1020\u001b[0m   \u001b[0;32mdef\u001b[0m \u001b[0m_do_call\u001b[0m\u001b[0;34m(\u001b[0m\u001b[0mself\u001b[0m\u001b[0;34m,\u001b[0m \u001b[0mfn\u001b[0m\u001b[0;34m,\u001b[0m \u001b[0;34m*\u001b[0m\u001b[0margs\u001b[0m\u001b[0;34m)\u001b[0m\u001b[0;34m:\u001b[0m\u001b[0;34m\u001b[0m\u001b[0m\n\u001b[1;32m   1021\u001b[0m     \u001b[0;32mtry\u001b[0m\u001b[0;34m:\u001b[0m\u001b[0;34m\u001b[0m\u001b[0m\n\u001b[0;32m-> 1022\u001b[0;31m       \u001b[0;32mreturn\u001b[0m \u001b[0mfn\u001b[0m\u001b[0;34m(\u001b[0m\u001b[0;34m*\u001b[0m\u001b[0margs\u001b[0m\u001b[0;34m)\u001b[0m\u001b[0;34m\u001b[0m\u001b[0m\n\u001b[0m\u001b[1;32m   1023\u001b[0m     \u001b[0;32mexcept\u001b[0m \u001b[0merrors\u001b[0m\u001b[0;34m.\u001b[0m\u001b[0mOpError\u001b[0m \u001b[0;32mas\u001b[0m \u001b[0me\u001b[0m\u001b[0;34m:\u001b[0m\u001b[0;34m\u001b[0m\u001b[0m\n\u001b[1;32m   1024\u001b[0m       \u001b[0mmessage\u001b[0m \u001b[0;34m=\u001b[0m \u001b[0mcompat\u001b[0m\u001b[0;34m.\u001b[0m\u001b[0mas_text\u001b[0m\u001b[0;34m(\u001b[0m\u001b[0me\u001b[0m\u001b[0;34m.\u001b[0m\u001b[0mmessage\u001b[0m\u001b[0;34m)\u001b[0m\u001b[0;34m\u001b[0m\u001b[0m\n",
      "\u001b[0;32m/Users/snn/anaconda/envs/tensorflow/lib/python2.7/site-packages/tensorflow/python/client/session.pyc\u001b[0m in \u001b[0;36m_run_fn\u001b[0;34m(session, feed_dict, fetch_list, target_list, options, run_metadata)\u001b[0m\n\u001b[1;32m   1002\u001b[0m         return tf_session.TF_Run(session, options,\n\u001b[1;32m   1003\u001b[0m                                  \u001b[0mfeed_dict\u001b[0m\u001b[0;34m,\u001b[0m \u001b[0mfetch_list\u001b[0m\u001b[0;34m,\u001b[0m \u001b[0mtarget_list\u001b[0m\u001b[0;34m,\u001b[0m\u001b[0;34m\u001b[0m\u001b[0m\n\u001b[0;32m-> 1004\u001b[0;31m                                  status, run_metadata)\n\u001b[0m\u001b[1;32m   1005\u001b[0m \u001b[0;34m\u001b[0m\u001b[0m\n\u001b[1;32m   1006\u001b[0m     \u001b[0;32mdef\u001b[0m \u001b[0m_prun_fn\u001b[0m\u001b[0;34m(\u001b[0m\u001b[0msession\u001b[0m\u001b[0;34m,\u001b[0m \u001b[0mhandle\u001b[0m\u001b[0;34m,\u001b[0m \u001b[0mfeed_dict\u001b[0m\u001b[0;34m,\u001b[0m \u001b[0mfetch_list\u001b[0m\u001b[0;34m)\u001b[0m\u001b[0;34m:\u001b[0m\u001b[0;34m\u001b[0m\u001b[0m\n",
      "\u001b[0;31mKeyboardInterrupt\u001b[0m: "
     ]
    }
   ],
   "source": [
    "CNN_2d.fit(X_train, Y_train, epochs = 200, batch_size = 512, validation_data = (X_test, Y_test), callbacks=[plot_losses])"
   ]
  },
  {
   "cell_type": "code",
   "execution_count": null,
   "metadata": {},
   "outputs": [],
   "source": [
    "K.set_value(CNN_2d.optimizer.lr,0.0001)"
   ]
  },
  {
   "cell_type": "code",
   "execution_count": null,
   "metadata": {},
   "outputs": [],
   "source": [
    "CNN_2d.fit(X_train, Y_train, epochs = 50, batch_size = 512, validation_data = (X_test, Y_test), callbacks=[plot_losses])"
   ]
  },
  {
   "cell_type": "markdown",
   "metadata": {},
   "source": [
    "** Learning rate:**"
   ]
  },
  {
   "cell_type": "code",
   "execution_count": null,
   "metadata": {},
   "outputs": [],
   "source": [
    "print('Learning Rate: ' + str(K.get_value(CNN_2d.optimizer.lr)))"
   ]
  },
  {
   "cell_type": "markdown",
   "metadata": {},
   "source": [
    "Save the model (architecture, weights, ...) "
   ]
  },
  {
   "cell_type": "code",
   "execution_count": null,
   "metadata": {},
   "outputs": [],
   "source": [
    "CNN_2d.save('CNN_v5_tanh_v2_0.50_HL_4x10_1.h5') "
   ]
  },
  {
   "cell_type": "markdown",
   "metadata": {},
   "source": [
    "# 4 Experimental Results"
   ]
  },
  {
   "cell_type": "markdown",
   "metadata": {},
   "source": [
    "## 4.1 Performance Metrics\n",
    "In this study, 2 metrics have been used for evaluating the performance of the proposed prognostic method, i.e. scoring function and root mean square error.\n",
    "\n",
    "The scoring function used in this study has been proposed by many researchers [2, 43, 44] and also employed by the International Conference on Prognostics and Health Management Data Challenge. \n",
    "\n",
    "where s denotes the score and N is the total number of testing data samples. di = RUL - RULi, that is the error between the estimated RUL value and the actual RUL value for the i-th testing data sample. The scoring function penalizes late prediction more than early prediction, that is because late prediction usually leads to more severe consequences in many\n",
    "fields such as aerospace industries."
   ]
  },
  {
   "cell_type": "code",
   "execution_count": null,
   "metadata": {},
   "outputs": [],
   "source": [
    "def score_cal(y_hat, Y_test):\n",
    "    d   = y_hat - Y_test\n",
    "    tmp = np.zeros(d.shape[0])\n",
    "    for i in range(d.shape[0]):\n",
    "        if d[i,0] >= 0:\n",
    "           tmp[i] = np.exp( d[i,0]/10) - 1\n",
    "        else:\n",
    "           tmp[i] = np.exp(-d[i,0]/13) - 1\n",
    "    return tmp "
   ]
  },
  {
   "cell_type": "markdown",
   "metadata": {},
   "source": [
    "Another popular metric to evaluate the effectiveness of the proposed method is Root Mean Square Error (RMSE)."
   ]
  },
  {
   "cell_type": "markdown",
   "metadata": {
    "collapsed": true
   },
   "source": [
    "## 4.2 Training set"
   ]
  },
  {
   "cell_type": "code",
   "execution_count": null,
   "metadata": {},
   "outputs": [],
   "source": [
    "preds = CNN_2d.evaluate(x = X_train, y = Y_train)\n",
    "print()\n",
    "print (\"Test  MSE = \" + str(preds))\n",
    "print (\"Test RMSE = \" + str(np.sqrt(preds)))"
   ]
  },
  {
   "cell_type": "code",
   "execution_count": null,
   "metadata": {},
   "outputs": [],
   "source": [
    "y_hat_tr   = CNN_2d.predict(x = X_train)\n",
    "score_i_tr = score_cal(y_hat_tr, Y_train)\n",
    "score_tr   = print(\"Score = \" + str(sum(score_i_tr)))"
   ]
  },
  {
   "cell_type": "markdown",
   "metadata": {},
   "source": [
    "### 4.2.1 Plots"
   ]
  },
  {
   "cell_type": "code",
   "execution_count": null,
   "metadata": {},
   "outputs": [],
   "source": [
    "d_tr = y_hat_tr - Y_train\n",
    "plt.hist(d_tr, bins='auto')  \n",
    "plt.title('Error distribution - Training Set')\n",
    "plt.ylabel('f')\n",
    "plt.xlabel(\"Error: $RUL_{hat}$ - RUL\")\n",
    "plt.show()"
   ]
  },
  {
   "cell_type": "markdown",
   "metadata": {
    "collapsed": true
   },
   "source": [
    "## 4.3 Test set"
   ]
  },
  {
   "cell_type": "code",
   "execution_count": null,
   "metadata": {},
   "outputs": [],
   "source": [
    "y_hat   = CNN_2d.predict(x = X_test)\n",
    "score_i = score_cal(y_hat, Y_test)\n",
    "score   = print(\"Score = \" + str(sum(score_i)))"
   ]
  },
  {
   "cell_type": "code",
   "execution_count": null,
   "metadata": {},
   "outputs": [],
   "source": [
    "preds = CNN_2d.evaluate(x = X_test, y = Y_test)\n",
    "print()\n",
    "print (\"MSE = \" + str(preds))\n",
    "print (\"RMSE = \" + str(np.sqrt(preds)))"
   ]
  },
  {
   "cell_type": "markdown",
   "metadata": {},
   "source": [
    "### 4.3.1 Plots"
   ]
  },
  {
   "cell_type": "code",
   "execution_count": null,
   "metadata": {},
   "outputs": [],
   "source": [
    "d = y_hat - Y_test\n",
    "plt.hist(d, bins='auto')  \n",
    "plt.title('Error distribution - Test Set')\n",
    "plt.ylabel('f')\n",
    "plt.xlabel(\"Error: $RUL_{hat}$ - RUL\")\n",
    "plt.show()"
   ]
  },
  {
   "cell_type": "code",
   "execution_count": null,
   "metadata": {},
   "outputs": [],
   "source": [
    "x     = range(0,100)\n",
    "y_ts  = np.sort(Y_test[:,0])\n",
    "idx   = np.argsort(Y_test[:,0])\n",
    "y_tr  = y_hat[idx,0]\n",
    "plt.plot(x, y_tr, 'bo-', x, y_ts, 'ro-')\n",
    "plt.title('RUL vs. engine #')\n",
    "plt.ylabel('RUL')\n",
    "plt.xlabel('engine #')\n",
    "plt.legend(['Prediction', 'Target'], loc='upper left')\n",
    "plt.show()"
   ]
  },
  {
   "cell_type": "code",
   "execution_count": null,
   "metadata": {},
   "outputs": [],
   "source": [
    "plt.plot(Y_test, y_hat, 'bo')\n",
    "plt.title('RUL vs. RUL #')\n",
    "plt.ylabel('RUL Estimated')\n",
    "plt.xlabel('RUL True')\n",
    "plt.show()"
   ]
  },
  {
   "cell_type": "markdown",
   "metadata": {},
   "source": [
    "# 5 Conclusions"
   ]
  },
  {
   "cell_type": "code",
   "execution_count": null,
   "metadata": {},
   "outputs": [],
   "source": [
    "K.tensorflow_backend._get_available_gpus()"
   ]
  },
  {
   "cell_type": "markdown",
   "metadata": {},
   "source": []
  },
  {
   "cell_type": "code",
   "execution_count": null,
   "metadata": {},
   "outputs": [],
   "source": [
    "Y_test[Y_test > R_early] = R_early                     # R_early = 125 \n",
    "preds = CNN_2d.evaluate(x = X_test, y = Y_test)\n",
    "print()\n",
    "print (\"MSE = \" + str(preds))\n",
    "print (\"RMSE = \" + str(np.sqrt(preds)))"
   ]
  },
  {
   "cell_type": "code",
   "execution_count": null,
   "metadata": {},
   "outputs": [],
   "source": [
    "x     = range(0,100)\n",
    "y_ts  = np.sort(Y_test[:,0])\n",
    "idx   = np.argsort(Y_test[:,0])\n",
    "y_tr  = y_hat[idx,0]\n",
    "plt.plot(x, y_tr, 'bo-', x, y_ts, 'ro-')\n",
    "plt.title('RUL vs. engine #')\n",
    "plt.ylabel('RUL')\n",
    "plt.xlabel('engine #')\n",
    "plt.legend(['Prediction', 'Target'], loc='upper left')\n",
    "plt.show()"
   ]
  },
  {
   "cell_type": "code",
   "execution_count": null,
   "metadata": {},
   "outputs": [],
   "source": [
    "plt.plot(Y_test, y_hat, 'bo')\n",
    "plt.plot(Y_test,Y_test, 'r-')\n",
    "plt.plot(Y_test,Y_test+20, 'r--')\n",
    "plt.plot(Y_test,Y_test-20, 'r--')\n",
    "plt.title('RUL vs. RUL #')\n",
    "plt.ylabel('RUL Estimated')\n",
    "plt.xlabel('RUL True')\n",
    "plt.show()"
   ]
  },
  {
   "cell_type": "code",
   "execution_count": null,
   "metadata": {},
   "outputs": [],
   "source": []
  }
 ],
 "metadata": {
  "kernelspec": {
   "display_name": "Python 2",
   "language": "python",
   "name": "python2"
  },
  "language_info": {
   "codemirror_mode": {
    "name": "ipython",
    "version": 2
   },
   "file_extension": ".py",
   "mimetype": "text/x-python",
   "name": "python",
   "nbconvert_exporter": "python",
   "pygments_lexer": "ipython2",
   "version": "2.7.14"
  }
 },
 "nbformat": 4,
 "nbformat_minor": 2
}
